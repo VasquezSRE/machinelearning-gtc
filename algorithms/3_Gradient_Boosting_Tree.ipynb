{
  "cells": [
    {
      "cell_type": "markdown",
      "metadata": {
        "id": "view-in-github",
        "colab_type": "text"
      },
      "source": [
        "<a href=\"https://colab.research.google.com/github/VasquezSRE/machinelearning-gtc/blob/main/algorithms/3_Gradient_Boosting_Tree.ipynb\" target=\"_parent\"><img src=\"https://colab.research.google.com/assets/colab-badge.svg\" alt=\"Open In Colab\"/></a>"
      ]
    },
    {
      "cell_type": "code",
      "execution_count": null,
      "metadata": {
        "id": "Dbn53ix3Z7Ip"
      },
      "outputs": [],
      "source": [
        "%load_ext autoreload\n",
        "%autoreload 2\n",
        "\n",
        "import pandas as pd\n",
        "import numpy as np\n",
        "from sklearn.model_selection import train_test_split\n",
        "from sklearn.model_selection import StratifiedKFold\n",
        "from sklearn.ensemble import GradientBoostingClassifier\n",
        "from imblearn.metrics import geometric_mean_score\n",
        "from sklearn.metrics import roc_curve, roc_auc_score\n",
        "from sklearn.metrics import plot_confusion_matrix\n",
        "from sklearn.metrics import f1_score\n",
        "import sys; sys.path.append('./Utils')\n",
        "from utils import Utils"
      ]
    },
    {
      "cell_type": "code",
      "execution_count": null,
      "metadata": {
        "id": "TEuVZzN2Z7Ir"
      },
      "outputs": [],
      "source": [
        "ut = Utils()\n",
        "X, Y = ut.get_matrixes()"
      ]
    },
    {
      "cell_type": "code",
      "execution_count": null,
      "metadata": {
        "id": "eCWwctYwZ7Ir"
      },
      "outputs": [],
      "source": [
        "def experimentar_gbt(num_trees, X, Y):\n",
        "    \"\"\"funcion que realiza experimentos de arboles de decision\n",
        "    num_trees: list[int] lista con el número de arboles usado para el RF\n",
        "    X: matriz con las caractersiticas\n",
        "    Y: matriz de numpy con etiquetas\n",
        "    retorna: dataframe con:\n",
        "        - numero de arboles usados\n",
        "        - eficiencia de entrenamiento\n",
        "        - desviacion de estandar eficiencia de entrenamiento\n",
        "        - eficiencia de prueba\n",
        "        - desviacion estandar eficiencia de prueba\n",
        "    \"\"\"\n",
        "    folds = 4\n",
        "    skf = StratifiedKFold(n_splits=folds)\n",
        "    resultados = pd.DataFrame()\n",
        "    idx = 0\n",
        "    for trees in num_trees:\n",
        "        ## para almacenar los errores intermedios\n",
        "        EficienciaTrain = []\n",
        "        EficienciaVal = []\n",
        "        f1 = [] \n",
        "        gmean =[]\n",
        "        \n",
        "        for train, test in skf.split(X, Y):\n",
        "            Xtrain, Ytrain, Xtest, Ytest = ut.get_training_test(X=X, Y=Y, train=train, test=test)\n",
        "            #Haga el llamado a la función para crear y entrenar el modelo usando los datos de entrenamiento\n",
        "            modelo= GradientBoostingClassifier(n_estimators=trees)\n",
        "            modelo.fit(Xtrain, Ytrain)\n",
        "            f1_score_current, gmean_current, eficiencia_train_current, eficiencia_test_current = ut.get_metrics(model=modelo, X_train=Xtrain, X_test=Xtest, y_train=Ytrain, Ytest=Ytest)\n",
        "            #Evaluamos las predicciones del modelo con los datos de test\n",
        "            EficienciaTrain.append(eficiencia_train_current)\n",
        "            EficienciaVal.append(eficiencia_test_current)\n",
        "            gmean.append(gmean_current)           \n",
        "            f1.append(f1_score_current)\n",
        "\n",
        "        resultados.loc[idx,'número de arboles'] = trees\n",
        "        resultados.loc[idx,'F1 Score'] = np.mean(f1)\n",
        "        resultados.loc[idx,'F1 Score IC'] = np.std(f1)\n",
        "        resultados.loc[idx,'GMEAN'] = np.mean(gmean)\n",
        "        resultados.loc[idx,'GMEAN IC'] = np.std(gmean)\n",
        "        resultados.loc[idx,'Eficiencia Train'] = np.mean(EficienciaTrain)\n",
        "        resultados.loc[idx,'Eficiencia Train IC'] = np.std(EficienciaTrain)\n",
        "        resultados.loc[idx,'eficiencia de prueba'] = np.mean(EficienciaVal)\n",
        "        resultados.loc[idx,'eficiencia prueba IC'] = np.std(EficienciaVal)\n",
        "        idx= idx +1\n",
        "        \n",
        "    return (resultados)"
      ]
    },
    {
      "cell_type": "code",
      "execution_count": null,
      "metadata": {
        "id": "yn3QaplxZ7Ix",
        "outputId": "a8d41f1a-166d-44be-9a33-8906d2c3536f"
      },
      "outputs": [
        {
          "data": {
            "text/html": [
              "<div>\n",
              "<style scoped>\n",
              "    .dataframe tbody tr th:only-of-type {\n",
              "        vertical-align: middle;\n",
              "    }\n",
              "\n",
              "    .dataframe tbody tr th {\n",
              "        vertical-align: top;\n",
              "    }\n",
              "\n",
              "    .dataframe thead th {\n",
              "        text-align: right;\n",
              "    }\n",
              "</style>\n",
              "<table border=\"1\" class=\"dataframe\">\n",
              "  <thead>\n",
              "    <tr style=\"text-align: right;\">\n",
              "      <th></th>\n",
              "      <th>número de arboles</th>\n",
              "      <th>F1 Score</th>\n",
              "      <th>F1 Score IC</th>\n",
              "      <th>GMEAN</th>\n",
              "      <th>GMEAN IC</th>\n",
              "      <th>Eficiencia Train</th>\n",
              "      <th>Eficiencia Train IC</th>\n",
              "      <th>eficiencia de prueba</th>\n",
              "      <th>eficiencia prueba IC</th>\n",
              "    </tr>\n",
              "  </thead>\n",
              "  <tbody>\n",
              "    <tr>\n",
              "      <th>0</th>\n",
              "      <td>5.0</td>\n",
              "      <td>0.880233</td>\n",
              "      <td>0.039418</td>\n",
              "      <td>0.910787</td>\n",
              "      <td>0.027486</td>\n",
              "      <td>0.922525</td>\n",
              "      <td>0.010486</td>\n",
              "      <td>0.881771</td>\n",
              "      <td>0.036201</td>\n",
              "    </tr>\n",
              "    <tr>\n",
              "      <th>1</th>\n",
              "      <td>10.0</td>\n",
              "      <td>0.897238</td>\n",
              "      <td>0.042164</td>\n",
              "      <td>0.923913</td>\n",
              "      <td>0.029089</td>\n",
              "      <td>0.935751</td>\n",
              "      <td>0.008328</td>\n",
              "      <td>0.899092</td>\n",
              "      <td>0.038368</td>\n",
              "    </tr>\n",
              "    <tr>\n",
              "      <th>2</th>\n",
              "      <td>20.0</td>\n",
              "      <td>0.910583</td>\n",
              "      <td>0.044135</td>\n",
              "      <td>0.934270</td>\n",
              "      <td>0.030432</td>\n",
              "      <td>0.956362</td>\n",
              "      <td>0.006125</td>\n",
              "      <td>0.912787</td>\n",
              "      <td>0.040179</td>\n",
              "    </tr>\n",
              "    <tr>\n",
              "      <th>3</th>\n",
              "      <td>50.0</td>\n",
              "      <td>0.920951</td>\n",
              "      <td>0.045907</td>\n",
              "      <td>0.942184</td>\n",
              "      <td>0.031696</td>\n",
              "      <td>0.977980</td>\n",
              "      <td>0.003606</td>\n",
              "      <td>0.923262</td>\n",
              "      <td>0.041904</td>\n",
              "    </tr>\n",
              "    <tr>\n",
              "      <th>4</th>\n",
              "      <td>100.0</td>\n",
              "      <td>0.927685</td>\n",
              "      <td>0.047283</td>\n",
              "      <td>0.947353</td>\n",
              "      <td>0.032644</td>\n",
              "      <td>0.993891</td>\n",
              "      <td>0.002578</td>\n",
              "      <td>0.930111</td>\n",
              "      <td>0.043189</td>\n",
              "    </tr>\n",
              "    <tr>\n",
              "      <th>5</th>\n",
              "      <td>150.0</td>\n",
              "      <td>0.930663</td>\n",
              "      <td>0.047316</td>\n",
              "      <td>0.949633</td>\n",
              "      <td>0.032578</td>\n",
              "      <td>0.997113</td>\n",
              "      <td>0.001734</td>\n",
              "      <td>0.933132</td>\n",
              "      <td>0.043109</td>\n",
              "    </tr>\n",
              "  </tbody>\n",
              "</table>\n",
              "</div>"
            ],
            "text/plain": [
              "   número de arboles  F1 Score  F1 Score IC     GMEAN  GMEAN IC  \\\n",
              "0                5.0  0.880233     0.039418  0.910787  0.027486   \n",
              "1               10.0  0.897238     0.042164  0.923913  0.029089   \n",
              "2               20.0  0.910583     0.044135  0.934270  0.030432   \n",
              "3               50.0  0.920951     0.045907  0.942184  0.031696   \n",
              "4              100.0  0.927685     0.047283  0.947353  0.032644   \n",
              "5              150.0  0.930663     0.047316  0.949633  0.032578   \n",
              "\n",
              "   Eficiencia Train  Eficiencia Train IC  eficiencia de prueba  \\\n",
              "0          0.922525             0.010486              0.881771   \n",
              "1          0.935751             0.008328              0.899092   \n",
              "2          0.956362             0.006125              0.912787   \n",
              "3          0.977980             0.003606              0.923262   \n",
              "4          0.993891             0.002578              0.930111   \n",
              "5          0.997113             0.001734              0.933132   \n",
              "\n",
              "   eficiencia prueba IC  \n",
              "0              0.036201  \n",
              "1              0.038368  \n",
              "2              0.040179  \n",
              "3              0.041904  \n",
              "4              0.043189  \n",
              "5              0.043109  "
            ]
          },
          "execution_count": 4,
          "metadata": {},
          "output_type": "execute_result"
        }
      ],
      "source": [
        "arboles = [5,10,20,50,100, 150]\n",
        "resultados_gbt = experimentar_gbt(arboles, X, Y)\n",
        "resultados_gbt"
      ]
    },
    {
      "cell_type": "code",
      "execution_count": null,
      "metadata": {
        "id": "sGXlbsH1Z7Iy",
        "outputId": "6f3bac98-c7b0-43bc-b6fb-d145f89017a2"
      },
      "outputs": [
        {
          "data": {
            "text/plain": [
              "<sklearn.metrics._plot.confusion_matrix.ConfusionMatrixDisplay at 0x7f5bf5b0ad30>"
            ]
          },
          "execution_count": 5,
          "metadata": {},
          "output_type": "execute_result"
        },
        {
          "data": {
            "image/png": "[encoded data removed]",
            "text/plain": [
              "<Figure size 432x288 with 2 Axes>"
            ]
          },
          "metadata": {
            "needs_background": "light"
          },
          "output_type": "display_data"
        }
      ],
      "source": [
        "X_train, X_test, y_train, y_test = ut.get_train_test()\n",
        "clf = GradientBoostingClassifier(n_estimators=20)\n",
        "clf.fit(X_train, y_train)\n",
        "plot_confusion_matrix(clf,X=X_test, y_true=y_test,normalize='true')"
      ]
    },
    {
      "cell_type": "code",
      "execution_count": null,
      "metadata": {
        "id": "K5hNQqIFZ7Iz",
        "outputId": "148bf793-0978-4c60-e51e-e15cb0a28589"
      },
      "outputs": [
        {
          "data": {
            "text/html": [
              "<div>\n",
              "<style scoped>\n",
              "    .dataframe tbody tr th:only-of-type {\n",
              "        vertical-align: middle;\n",
              "    }\n",
              "\n",
              "    .dataframe tbody tr th {\n",
              "        vertical-align: top;\n",
              "    }\n",
              "\n",
              "    .dataframe thead th {\n",
              "        text-align: right;\n",
              "    }\n",
              "</style>\n",
              "<table border=\"1\" class=\"dataframe\">\n",
              "  <thead>\n",
              "    <tr style=\"text-align: right;\">\n",
              "      <th></th>\n",
              "      <th>número de arboles</th>\n",
              "      <th>F1 Score</th>\n",
              "      <th>F1 Score IC</th>\n",
              "      <th>GMEAN</th>\n",
              "      <th>GMEAN IC</th>\n",
              "      <th>Eficiencia Train</th>\n",
              "      <th>Eficiencia Train IC</th>\n",
              "      <th>eficiencia de prueba</th>\n",
              "      <th>eficiencia prueba IC</th>\n",
              "    </tr>\n",
              "  </thead>\n",
              "  <tbody>\n",
              "    <tr>\n",
              "      <th>0</th>\n",
              "      <td>5.0</td>\n",
              "      <td>0.880233</td>\n",
              "      <td>0.039418</td>\n",
              "      <td>0.910787</td>\n",
              "      <td>0.027486</td>\n",
              "      <td>0.922525</td>\n",
              "      <td>0.010486</td>\n",
              "      <td>0.881771</td>\n",
              "      <td>0.036201</td>\n",
              "    </tr>\n",
              "    <tr>\n",
              "      <th>1</th>\n",
              "      <td>10.0</td>\n",
              "      <td>0.897238</td>\n",
              "      <td>0.042164</td>\n",
              "      <td>0.923913</td>\n",
              "      <td>0.029089</td>\n",
              "      <td>0.935751</td>\n",
              "      <td>0.008328</td>\n",
              "      <td>0.899092</td>\n",
              "      <td>0.038368</td>\n",
              "    </tr>\n",
              "    <tr>\n",
              "      <th>2</th>\n",
              "      <td>20.0</td>\n",
              "      <td>0.910583</td>\n",
              "      <td>0.044135</td>\n",
              "      <td>0.934270</td>\n",
              "      <td>0.030432</td>\n",
              "      <td>0.956362</td>\n",
              "      <td>0.006125</td>\n",
              "      <td>0.912787</td>\n",
              "      <td>0.040179</td>\n",
              "    </tr>\n",
              "    <tr>\n",
              "      <th>3</th>\n",
              "      <td>50.0</td>\n",
              "      <td>0.920951</td>\n",
              "      <td>0.045907</td>\n",
              "      <td>0.942184</td>\n",
              "      <td>0.031696</td>\n",
              "      <td>0.977980</td>\n",
              "      <td>0.003606</td>\n",
              "      <td>0.923262</td>\n",
              "      <td>0.041904</td>\n",
              "    </tr>\n",
              "    <tr>\n",
              "      <th>4</th>\n",
              "      <td>100.0</td>\n",
              "      <td>0.927685</td>\n",
              "      <td>0.047283</td>\n",
              "      <td>0.947353</td>\n",
              "      <td>0.032644</td>\n",
              "      <td>0.993891</td>\n",
              "      <td>0.002578</td>\n",
              "      <td>0.930111</td>\n",
              "      <td>0.043189</td>\n",
              "    </tr>\n",
              "    <tr>\n",
              "      <th>5</th>\n",
              "      <td>150.0</td>\n",
              "      <td>0.930663</td>\n",
              "      <td>0.047316</td>\n",
              "      <td>0.949633</td>\n",
              "      <td>0.032578</td>\n",
              "      <td>0.997113</td>\n",
              "      <td>0.001734</td>\n",
              "      <td>0.933132</td>\n",
              "      <td>0.043109</td>\n",
              "    </tr>\n",
              "  </tbody>\n",
              "</table>\n",
              "</div>"
            ],
            "text/plain": [
              "   número de arboles  F1 Score  F1 Score IC     GMEAN  GMEAN IC  \\\n",
              "0                5.0  0.880233     0.039418  0.910787  0.027486   \n",
              "1               10.0  0.897238     0.042164  0.923913  0.029089   \n",
              "2               20.0  0.910583     0.044135  0.934270  0.030432   \n",
              "3               50.0  0.920951     0.045907  0.942184  0.031696   \n",
              "4              100.0  0.927685     0.047283  0.947353  0.032644   \n",
              "5              150.0  0.930663     0.047316  0.949633  0.032578   \n",
              "\n",
              "   Eficiencia Train  Eficiencia Train IC  eficiencia de prueba  \\\n",
              "0          0.922525             0.010486              0.881771   \n",
              "1          0.935751             0.008328              0.899092   \n",
              "2          0.956362             0.006125              0.912787   \n",
              "3          0.977980             0.003606              0.923262   \n",
              "4          0.993891             0.002578              0.930111   \n",
              "5          0.997113             0.001734              0.933132   \n",
              "\n",
              "   eficiencia prueba IC  \n",
              "0              0.036201  \n",
              "1              0.038368  \n",
              "2              0.040179  \n",
              "3              0.041904  \n",
              "4              0.043189  \n",
              "5              0.043109  "
            ]
          },
          "execution_count": 6,
          "metadata": {},
          "output_type": "execute_result"
        }
      ],
      "source": [
        "resultados_gbt"
      ]
    },
    {
      "cell_type": "code",
      "execution_count": null,
      "metadata": {
        "id": "cxKbW8GAZ7Iz",
        "outputId": "8352cb85-5cc0-45e9-c7b6-d3215f2188a9"
      },
      "outputs": [
        {
          "data": {
            "text/plain": [
              "(4965, 22)"
            ]
          },
          "execution_count": 16,
          "metadata": {},
          "output_type": "execute_result"
        }
      ],
      "source": [
        "X.shape"
      ]
    },
    {
      "cell_type": "code",
      "execution_count": null,
      "metadata": {
        "id": "tAtKUb-ZZ7Iz"
      },
      "outputs": [],
      "source": [
        "X_train, X_test, y_train, y_test = ut.get_train_test()\n",
        "clf = GradientBoostingClassifier(n_estimators=50)\n",
        "clf.fit(X_train, y_train)\n",
        "plot_confusion_matrix(clf,X=X_test, y_true=y_test,normalize='true')"
      ]
    }
  ],
  "metadata": {
    "kernelspec": {
      "display_name": "Python 3",
      "language": "python",
      "name": "python3"
    },
    "language_info": {
      "codemirror_mode": {
        "name": "ipython",
        "version": 3
      },
      "file_extension": ".py",
      "mimetype": "text/x-python",
      "name": "python",
      "nbconvert_exporter": "python",
      "pygments_lexer": "ipython3",
      "version": "3.8.5"
    },
    "colab": {
      "provenance": [],
      "include_colab_link": true
    }
  },
  "nbformat": 4,
  "nbformat_minor": 0
}