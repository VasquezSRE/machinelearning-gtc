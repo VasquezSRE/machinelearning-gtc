{
  "cells": [
    {
      "cell_type": "markdown",
      "metadata": {
        "id": "view-in-github",
        "colab_type": "text"
      },
      "source": [
        "<a href=\"https://colab.research.google.com/github/VasquezSRE/machinelearning-gtc/blob/main/algorithms/2_Parzen_Window.ipynb\" target=\"_parent\"><img src=\"https://colab.research.google.com/assets/colab-badge.svg\" alt=\"Open In Colab\"/></a>"
      ]
    },
    {
      "cell_type": "code",
      "execution_count": null,
      "metadata": {
        "id": "yz8PwCZEbPT0",
        "outputId": "0a1caade-70cf-4be8-9656-31575ec07dd1"
      },
      "outputs": [
        {
          "name": "stdout",
          "output_type": "stream",
          "text": [
            "The autoreload extension is already loaded. To reload it, use:\n",
            "  %reload_ext autoreload\n"
          ]
        }
      ],
      "source": [
        "%load_ext autoreload\n",
        "%autoreload 2\n",
        "\n",
        "import pandas as pd\n",
        "import numpy as np\n",
        "from sklearn.discriminant_analysis import QuadraticDiscriminantAnalysis\n",
        "from sklearn.datasets import make_moons, make_circles, make_classification\n",
        "from sklearn.model_selection import train_test_split\n",
        "from imblearn.metrics import geometric_mean_score\n",
        "from sklearn.metrics import f1_score\n",
        "from sklearn.metrics import plot_confusion_matrix\n",
        "from sklearn.metrics import roc_curve, roc_auc_score\n",
        "from sklearn.metrics import plot_confusion_matrix\n",
        "from sklearn.metrics import auc\n",
        "import matplotlib.pyplot as plt\n",
        "from sklearn.preprocessing import label_binarize\n",
        "from sklearn.model_selection import StratifiedKFold\n",
        "from scipy.spatial.distance import euclidean\n",
        "from sklearn.neighbors import KernelDensity\n",
        "import sys; sys.path.append('../Utils')\n",
        "from sklearn.multiclass import OneVsRestClassifier\n",
        "from utils import Utils"
      ]
    },
    {
      "cell_type": "code",
      "execution_count": null,
      "metadata": {
        "id": "yZdH5XENbPT-"
      },
      "outputs": [],
      "source": [
        "ut = Utils()\n",
        "X, Y = ut.get_matrixes()"
      ]
    },
    {
      "cell_type": "code",
      "execution_count": null,
      "metadata": {
        "id": "VPJry4-XbPUA"
      },
      "outputs": [],
      "source": [
        "def ErrorClas(Y_lest, Y):\n",
        "    \"\"\"funcion que calcula el error de clasificación\n",
        "    Y_lest: numpy array con la estimaciones de etiqueta\n",
        "    Y: etiquetas reales\n",
        "    retorna: error de clasificación (int)\n",
        "    \"\"\"\n",
        "    error = 1 - np.sum(Y_lest == Y)/len(Y)\n",
        "    \n",
        "    return error"
      ]
    },
    {
      "cell_type": "code",
      "execution_count": null,
      "metadata": {
        "id": "HNUfsF8TbPUD"
      },
      "outputs": [],
      "source": [
        "def kernel_gaussiano(x):\n",
        "    \"\"\"Calcula el kernel gaussiano de x\n",
        "    x: matriz/vector de numpy\n",
        "    retorna: el valor de de kernel gaussiano\n",
        "    \"\"\"\n",
        "    return np.exp((-0.5)*x**2)\n",
        "\n",
        "def ParzenWindow(x,Data,h):\n",
        "    \"\"\"\"ventana de parzen\n",
        "    x: vector con representando una sola muestra\n",
        "    Data: vector de muestras de entrenamiento\n",
        "    h: ancho de la ventana de kernel\n",
        "    retorna: el valor de ventana de parzen para una muestra\n",
        "    \"\"\"\n",
        "    h = h\n",
        "    Ns = Data.shape[0]\n",
        "    suma = 0\n",
        "    for k in range(Ns):\n",
        "        u = euclidean(x,Data[k,:])\n",
        "        suma += kernel_gaussiano(u/h)\n",
        "    return suma"
      ]
    },
    {
      "cell_type": "code",
      "execution_count": null,
      "metadata": {
        "id": "6njbt2SwbPUF"
      },
      "outputs": [],
      "source": [
        "#Ejercicio de código\n",
        "def parzenClass(X_train, Y_train, X_test, h):\n",
        "    \"\"\" Funcion que implementa metodo de ventana de parzen para\n",
        "        para clasificación\n",
        "    X_train: es la matriz con las muestras de entrenamiento\n",
        "    Y_train: es un vector con los valores de salida pra cada una de las muestras de entrenamiento\n",
        "    X_test: es la matriz con las muestras de validación\n",
        "    h (float): ancho de h de la ventana\n",
        "    retorna: - las estimaciones del modelo parzen para el conjunto X_test \n",
        "              esta matriz debe tener un shape de [row/muestras de X_test]\n",
        "             - las probabilidades de la vetana [row/muestras de X_test, numero de clases]  \n",
        "    \"\"\"\n",
        "        \n",
        "    Yest = np.zeros(X_test.shape[0])\n",
        "    clases = np.unique(Y_train)\n",
        "    fds_matrix = np.zeros((X_test.shape[0], len(clases)))\n",
        "\n",
        "    \n",
        "    idx = 0\n",
        "    for n, sample in enumerate (X_test):\n",
        "        max_prob = 0\n",
        "        est_label = None\n",
        "        j = 0\n",
        "        for label in clases:\n",
        "            indixes = np.argwhere(Y_train == label)\n",
        "            train_elements = np.take(X_train, indixes.T[0], axis = 0)\n",
        "            dim = train_elements.shape\n",
        "            prob = ParzenWindow(sample,train_elements,h)/dim[0]\n",
        "            fds_matrix[idx][j] = prob\n",
        "            if prob > max_prob:\n",
        "                max_prob = prob\n",
        "                est_label = label\n",
        "            j += 1\n",
        "        Yest[idx] = est_label\n",
        "        idx +=1\n",
        "\n",
        "    #Debe retornar un vector que contenga las predicciones para cada una de las muestras en X_val, en el mismo orden.  \n",
        "    return Yest, fds_matrix"
      ]
    },
    {
      "cell_type": "code",
      "execution_count": null,
      "metadata": {
        "id": "4v6IzdlGbPUI"
      },
      "outputs": [],
      "source": [
        "#ejercicio de codigo\n",
        "def experimentarParzen (X, Y, hs):\n",
        "    \"\"\"Función que realiza los experimentos con knn usando\n",
        "       una estrategia de validacion entrenamiento y pruebas\n",
        "    X: matriz de numpy conjunto con muestras y caracteristicas\n",
        "    Y: vector de numpy con los valores de las etiquetas\n",
        "    ks: List[int/float] lista con los valores de k-vecinos a usar\n",
        "    retorna: dataframe con los resultados, debe contener las siguientes columnas:\n",
        "        - el ancho de ventana, el error medio de prueba, la desviacion estandar del error\n",
        "    \"\"\"\n",
        "    \n",
        "    \n",
        "    # se usa la función para implementar la estrategia de validación.\n",
        "    skf = StratifiedKFold(n_splits=4)\n",
        "    resultados = pd.DataFrame()\n",
        "    idx = 0\n",
        "    # iteramos sobre los valores de hs\n",
        "    for h in hs:\n",
        "        # lista para almacenar los errores de cada iteración\n",
        "        # de la validación\n",
        "        error_temp = []\n",
        "        \n",
        "        for train, test in skf.split(X, Y):\n",
        "\n",
        "            X_train, Y_train, X_test, Y_test = ut.get_training_test(X=X, Y=Y, train=train, test=test)\n",
        "            #normalizamos los datos\n",
        "\n",
        "            Yest, probabilidades =  parzenClass(X_train, Y_train, X_test, h)\n",
        "            errorTest = ErrorClas(Yest, Y_test)\n",
        "            error_temp.append(errorTest)\n",
        "    \n",
        "        resultados.loc[idx,'ancho de ventana'] = h \n",
        "        resultados.loc[idx,'error de prueba(media)'] = np.mean(error_temp)\n",
        "        resultados.loc[idx,'error de prueba(desviación estandar)'] = np.std(error_temp)\n",
        "        idx+=1\n",
        "    return (resultados)"
      ]
    },
    {
      "cell_type": "code",
      "execution_count": null,
      "metadata": {
        "id": "QqobYU9CbPUL",
        "outputId": "6d5b3510-2d35-4bc4-d596-5f43372a90b8"
      },
      "outputs": [
        {
          "data": {
            "text/html": [
              "<div>\n",
              "<style scoped>\n",
              "    .dataframe tbody tr th:only-of-type {\n",
              "        vertical-align: middle;\n",
              "    }\n",
              "\n",
              "    .dataframe tbody tr th {\n",
              "        vertical-align: top;\n",
              "    }\n",
              "\n",
              "    .dataframe thead th {\n",
              "        text-align: right;\n",
              "    }\n",
              "</style>\n",
              "<table border=\"1\" class=\"dataframe\">\n",
              "  <thead>\n",
              "    <tr style=\"text-align: right;\">\n",
              "      <th></th>\n",
              "      <th>ancho de ventana</th>\n",
              "      <th>error de prueba(media)</th>\n",
              "      <th>error de prueba(desviación estandar)</th>\n",
              "    </tr>\n",
              "  </thead>\n",
              "  <tbody>\n",
              "    <tr>\n",
              "      <th>0</th>\n",
              "      <td>0.05</td>\n",
              "      <td>0.075324</td>\n",
              "      <td>0.027038</td>\n",
              "    </tr>\n",
              "    <tr>\n",
              "      <th>1</th>\n",
              "      <td>0.10</td>\n",
              "      <td>0.088014</td>\n",
              "      <td>0.027034</td>\n",
              "    </tr>\n",
              "    <tr>\n",
              "      <th>2</th>\n",
              "      <td>0.50</td>\n",
              "      <td>0.250963</td>\n",
              "      <td>0.021397</td>\n",
              "    </tr>\n",
              "    <tr>\n",
              "      <th>3</th>\n",
              "      <td>1.00</td>\n",
              "      <td>0.293258</td>\n",
              "      <td>0.016257</td>\n",
              "    </tr>\n",
              "    <tr>\n",
              "      <th>4</th>\n",
              "      <td>2.00</td>\n",
              "      <td>0.315816</td>\n",
              "      <td>0.018205</td>\n",
              "    </tr>\n",
              "    <tr>\n",
              "      <th>5</th>\n",
              "      <td>5.00</td>\n",
              "      <td>0.322261</td>\n",
              "      <td>0.016874</td>\n",
              "    </tr>\n",
              "    <tr>\n",
              "      <th>6</th>\n",
              "      <td>10.00</td>\n",
              "      <td>0.323066</td>\n",
              "      <td>0.016313</td>\n",
              "    </tr>\n",
              "  </tbody>\n",
              "</table>\n",
              "</div>"
            ],
            "text/plain": [
              "   ancho de ventana  error de prueba(media)  \\\n",
              "0              0.05                0.075324   \n",
              "1              0.10                0.088014   \n",
              "2              0.50                0.250963   \n",
              "3              1.00                0.293258   \n",
              "4              2.00                0.315816   \n",
              "5              5.00                0.322261   \n",
              "6             10.00                0.323066   \n",
              "\n",
              "   error de prueba(desviación estandar)  \n",
              "0                              0.027038  \n",
              "1                              0.027034  \n",
              "2                              0.021397  \n",
              "3                              0.016257  \n",
              "4                              0.018205  \n",
              "5                              0.016874  \n",
              "6                              0.016313  "
            ]
          },
          "execution_count": 16,
          "metadata": {},
          "output_type": "execute_result"
        }
      ],
      "source": [
        "hs = [0.05, 0.1, 0.5, 1, 2, 5, 10]\n",
        "experimentos_parzen = experimentarParzen(X,Y, hs)\n",
        "experimentos_parzen"
      ]
    }
  ],
  "metadata": {
    "kernelspec": {
      "display_name": "Python 3",
      "language": "python",
      "name": "python3"
    },
    "language_info": {
      "codemirror_mode": {
        "name": "ipython",
        "version": 3
      },
      "file_extension": ".py",
      "mimetype": "text/x-python",
      "name": "python",
      "nbconvert_exporter": "python",
      "pygments_lexer": "ipython3",
      "version": "3.8.5"
    },
    "colab": {
      "provenance": [],
      "include_colab_link": true
    }
  },
  "nbformat": 4,
  "nbformat_minor": 0
}