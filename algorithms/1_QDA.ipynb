{
  "cells": [
    {
      "cell_type": "markdown",
      "metadata": {
        "id": "view-in-github",
        "colab_type": "text"
      },
      "source": [
        "<a href=\"https://colab.research.google.com/github/VasquezSRE/machinelearning-gtc/blob/main/algorithms/1_QDA.ipynb\" target=\"_parent\"><img src=\"https://colab.research.google.com/assets/colab-badge.svg\" alt=\"Open In Colab\"/></a>"
      ]
    },
    {
      "cell_type": "code",
      "execution_count": null,
      "metadata": {
        "scrolled": true,
        "id": "kma__lsra792",
        "outputId": "86888e93-07b3-4488-8dae-73271a329302"
      },
      "outputs": [
        {
          "name": "stdout",
          "output_type": "stream",
          "text": [
            "The autoreload extension is already loaded. To reload it, use:\n",
            "  %reload_ext autoreload\n"
          ]
        }
      ],
      "source": [
        "%load_ext autoreload\n",
        "%autoreload 2\n",
        "\n",
        "import pandas as pd\n",
        "import numpy as np\n",
        "from sklearn.model_selection import StratifiedKFold\n",
        "from sklearn.discriminant_analysis import QuadraticDiscriminantAnalysis\n",
        "from sklearn.datasets import make_moons, make_circles, make_classification\n",
        "from sklearn.model_selection import train_test_split\n",
        "from imblearn.metrics import geometric_mean_score\n",
        "from sklearn.metrics import plot_confusion_matrix\n",
        "from sklearn.metrics import roc_curve, roc_auc_score\n",
        "import matplotlib.pyplot as plt\n",
        "from sklearn.preprocessing import label_binarize\n",
        "import sys; sys.path.append('./Utils')\n",
        "from utils import Utils"
      ]
    },
    {
      "cell_type": "code",
      "execution_count": null,
      "metadata": {
        "id": "bV7Q5Q4Oa796"
      },
      "outputs": [],
      "source": [
        "ut = Utils()"
      ]
    },
    {
      "cell_type": "code",
      "execution_count": null,
      "metadata": {
        "id": "iijAq9Moa796"
      },
      "outputs": [],
      "source": [
        "def trainQDA(X, Y, param):\n",
        "    Folds = 4\n",
        "    skf = StratifiedKFold(n_splits=Folds)\n",
        "    f1 = []\n",
        "    gmean = []\n",
        "    eficiencia_train = []\n",
        "    eficiencia_test = []\n",
        "    for train, test in skf.split(X, Y):\n",
        "        X_train, Y_train, X_test, Y_test = ut.get_training_test(X=X, Y=Y, train=train, test=test)\n",
        "        clf = QuadraticDiscriminantAnalysis(reg_param=param)\n",
        "        clf.fit(X_train, Y_train)\n",
        "        f1_score_current, gmean_current, eficiencia_train_current, eficiencia_test_current = ut.get_metrics(model=clf, X_train=X_train, X_test=X_test, y_train=Y_train, Ytest=Y_test)\n",
        "        f1.append(f1_score_current)\n",
        "        gmean.append(gmean_current)\n",
        "        eficiencia_train.append(eficiencia_train_current)\n",
        "        eficiencia_test.append(eficiencia_test_current)\n",
        "        print(f1_score_current, gmean_current, eficiencia_train_current, eficiencia_test_current)\n",
        "    f1_mean, f1_ic, gmean_mean, gmean_ic, eficiencia_train_mean, eficiencia_train_ic, eficiencia_test_mean, eficiencia_test_ic = ut.get_means_and_ic(f1=f1, gmean=gmean, eficiencia_train=eficiencia_train, eficiencia_test=eficiencia_test)\n",
        "    return f1_mean, f1_ic, gmean_mean, gmean_ic, eficiencia_train_mean, eficiencia_train_ic, eficiencia_test_mean, eficiencia_test_ic"
      ]
    },
    {
      "cell_type": "code",
      "execution_count": null,
      "metadata": {
        "id": "FqzThDCba797"
      },
      "outputs": [],
      "source": [
        "df_types = pd.DataFrame({'reg_param':pd.Series([0.1, 0.2, 0.3, 0.4, 0.5]),})\n",
        "df_types[\"F1_Score\"] = \"\"\n",
        "df_types[\"F1_Score IC\"] = \"\"\n",
        "df_types[\"Gmean\"]= \"\"\n",
        "df_types[\"Gmean IC\"]= \"\"\n",
        "df_types[\"Eficiencia Train\"] = \"\"\n",
        "df_types[\"Eficiencia Train IC\"] = \"\"\n",
        "df_types[\"Eficiencia Test\"] = \"\"\n",
        "df_types[\"Eficiencia Test IC\"] = \"\""
      ]
    },
    {
      "cell_type": "code",
      "execution_count": null,
      "metadata": {
        "scrolled": false,
        "id": "ahtPU6qda797",
        "outputId": "ecaa6f93-b110-42ac-fa95-88d81d6ef8e2"
      },
      "outputs": [
        {
          "name": "stderr",
          "output_type": "stream",
          "text": [
            "/home/juan/simulation/simulation/lib/python3.8/site-packages/sklearn/discriminant_analysis.py:715: UserWarning: Variables are collinear\n",
            "  warnings.warn(\"Variables are collinear\")\n",
            "/home/juan/simulation/simulation/lib/python3.8/site-packages/sklearn/discriminant_analysis.py:715: UserWarning: Variables are collinear\n",
            "  warnings.warn(\"Variables are collinear\")\n",
            "/home/juan/simulation/simulation/lib/python3.8/site-packages/sklearn/discriminant_analysis.py:715: UserWarning: Variables are collinear\n",
            "  warnings.warn(\"Variables are collinear\")\n",
            "/home/juan/simulation/simulation/lib/python3.8/site-packages/sklearn/discriminant_analysis.py:715: UserWarning: Variables are collinear\n",
            "  warnings.warn(\"Variables are collinear\")\n",
            "/home/juan/simulation/simulation/lib/python3.8/site-packages/sklearn/discriminant_analysis.py:715: UserWarning: Variables are collinear\n",
            "  warnings.warn(\"Variables are collinear\")\n",
            "/home/juan/simulation/simulation/lib/python3.8/site-packages/sklearn/discriminant_analysis.py:715: UserWarning: Variables are collinear\n",
            "  warnings.warn(\"Variables are collinear\")\n",
            "/home/juan/simulation/simulation/lib/python3.8/site-packages/sklearn/discriminant_analysis.py:715: UserWarning: Variables are collinear\n",
            "  warnings.warn(\"Variables are collinear\")\n",
            "/home/juan/simulation/simulation/lib/python3.8/site-packages/sklearn/discriminant_analysis.py:715: UserWarning: Variables are collinear\n",
            "  warnings.warn(\"Variables are collinear\")\n",
            "/home/juan/simulation/simulation/lib/python3.8/site-packages/sklearn/discriminant_analysis.py:715: UserWarning: Variables are collinear\n",
            "  warnings.warn(\"Variables are collinear\")\n",
            "/home/juan/simulation/simulation/lib/python3.8/site-packages/sklearn/discriminant_analysis.py:715: UserWarning: Variables are collinear\n",
            "  warnings.warn(\"Variables are collinear\")\n",
            "/home/juan/simulation/simulation/lib/python3.8/site-packages/sklearn/discriminant_analysis.py:715: UserWarning: Variables are collinear\n",
            "  warnings.warn(\"Variables are collinear\")\n",
            "/home/juan/simulation/simulation/lib/python3.8/site-packages/sklearn/discriminant_analysis.py:715: UserWarning: Variables are collinear\n",
            "  warnings.warn(\"Variables are collinear\")\n",
            "/home/juan/simulation/simulation/lib/python3.8/site-packages/sklearn/discriminant_analysis.py:715: UserWarning: Variables are collinear\n",
            "  warnings.warn(\"Variables are collinear\")\n",
            "/home/juan/simulation/simulation/lib/python3.8/site-packages/sklearn/discriminant_analysis.py:715: UserWarning: Variables are collinear\n",
            "  warnings.warn(\"Variables are collinear\")\n",
            "/home/juan/simulation/simulation/lib/python3.8/site-packages/sklearn/discriminant_analysis.py:715: UserWarning: Variables are collinear\n",
            "  warnings.warn(\"Variables are collinear\")\n"
          ]
        },
        {
          "name": "stdout",
          "output_type": "stream",
          "text": [
            "0.7670141072366025 0.8203319609320551 0.7781359118990062 0.7632850241545893\n",
            "0.7773682593801255 0.8300434431893158 0.7757787325456499 0.7759871071716358\n",
            "0.7727803581827954 0.8244832022349404 0.7693340494092373 0.7687348912167606\n",
            "0.7222795027075305 0.7897930075380755 0.7913533834586466 0.7236099919419823\n",
            "0.76416451812122 0.8203319609320551 0.7617512758528069 0.7632850241545893\n",
            "0.7519784307405987 0.8114250669233102 0.7502685284640171 0.7518130539887188\n",
            "0.7372348637307957 0.7977641033978863 0.7438238453276047 0.734085414987913\n",
            "0.7010955061053141 0.7729089576462868 0.765843179377014 0.701853344077357\n",
            "0.7541967130245879 0.8135079789619702 0.7480526457158205 0.7544283413848631\n",
            "0.7391573082605334 0.8020899133416821 0.7360365198711063 0.7397260273972602\n",
            "0.7228936744616715 0.787165212352407 0.7309344790547798 0.7203867848509267\n",
            "0.6913690616274105 0.7647571281107822 0.7524167561761547 0.6913779210314263\n",
            "0.7516885300341365 0.8116453221127166 0.7453666398066076 0.7520128824476651\n",
            "0.7351868089019471 0.7989745282300614 0.7293233082706767 0.7356970185334408\n",
            "0.721151567552892 0.7859180522188534 0.7295918367346939 0.7187751813053989\n",
            "0.6864168969586181 0.761612016413472 0.7473147153598282 0.6873489121676067\n",
            "0.753493219810875 0.8128871688336324 0.7450980392156863 0.7536231884057971\n",
            "0.7355646558664469 0.7989745282300614 0.7293233082706767 0.7356970185334408\n",
            "0.7246183514882968 0.7884180549307428 0.7250268528464017 0.7219983883964545\n",
            "0.6844124657465251 0.760351622422369 0.7467776584317938 0.6857373086220789\n"
          ]
        },
        {
          "name": "stderr",
          "output_type": "stream",
          "text": [
            "/home/juan/simulation/simulation/lib/python3.8/site-packages/sklearn/discriminant_analysis.py:715: UserWarning: Variables are collinear\n",
            "  warnings.warn(\"Variables are collinear\")\n",
            "/home/juan/simulation/simulation/lib/python3.8/site-packages/sklearn/discriminant_analysis.py:715: UserWarning: Variables are collinear\n",
            "  warnings.warn(\"Variables are collinear\")\n",
            "/home/juan/simulation/simulation/lib/python3.8/site-packages/sklearn/discriminant_analysis.py:715: UserWarning: Variables are collinear\n",
            "  warnings.warn(\"Variables are collinear\")\n",
            "/home/juan/simulation/simulation/lib/python3.8/site-packages/sklearn/discriminant_analysis.py:715: UserWarning: Variables are collinear\n",
            "  warnings.warn(\"Variables are collinear\")\n",
            "/home/juan/simulation/simulation/lib/python3.8/site-packages/sklearn/discriminant_analysis.py:715: UserWarning: Variables are collinear\n",
            "  warnings.warn(\"Variables are collinear\")\n"
          ]
        }
      ],
      "source": [
        "params = [0.1, 0.2, 0.3, 0.4, 0.5]\n",
        "X, Y = ut.get_matrixes()\n",
        "f1 = []\n",
        "f1_ic = []\n",
        "gmean = []\n",
        "gmean_ic = []\n",
        "eficiencia_train = []\n",
        "eficiencia_train_ic = []\n",
        "eficiencia_test = []\n",
        "eficiencia_test_ic = []\n",
        "for param in params:\n",
        "    f1_mean, f1_ic_, gmean_mean, gmean_ic_, eficiencia_train_mean, eficiencia_train_ic_, eficiencia_test_mean, eficiencia_test_ic_ = trainQDA(X, Y, param)\n",
        "    \n",
        "    f1.append(f1_mean)\n",
        "    f1_ic.append(f1_ic_)\n",
        "    \n",
        "    gmean.append(gmean_mean)\n",
        "    gmean_ic.append(gmean_ic_)\n",
        "    \n",
        "    eficiencia_train.append(eficiencia_train_mean)\n",
        "    eficiencia_train_ic.append(eficiencia_train_ic_)\n",
        "    \n",
        "    eficiencia_test.append(eficiencia_test_mean)\n",
        "    eficiencia_test_ic.append(eficiencia_test_ic_)\n",
        "    \n",
        "df_types[\"F1_Score\"] = f1\n",
        "df_types[\"F1_Score IC\"] = f1_ic\n",
        "df_types[\"Gmean\"]= gmean\n",
        "df_types[\"Gmean IC\"]= gmean_ic\n",
        "df_types[\"Eficiencia Train\"] = eficiencia_train\n",
        "df_types[\"Eficiencia Train IC\"] = eficiencia_train_ic\n",
        "df_types[\"Eficiencia Test\"] = eficiencia_test\n",
        "df_types[\"Eficiencia Test IC\"] = eficiencia_test_ic\n",
        "df_types.set_index(['reg_param'], inplace=True)\n",
        "    "
      ]
    },
    {
      "cell_type": "code",
      "execution_count": null,
      "metadata": {
        "id": "T17w9TpCa798",
        "outputId": "ed7b772d-95dc-403c-a164-ca6e6f4123c3"
      },
      "outputs": [
        {
          "data": {
            "text/html": [
              "<div>\n",
              "<style scoped>\n",
              "    .dataframe tbody tr th:only-of-type {\n",
              "        vertical-align: middle;\n",
              "    }\n",
              "\n",
              "    .dataframe tbody tr th {\n",
              "        vertical-align: top;\n",
              "    }\n",
              "\n",
              "    .dataframe thead th {\n",
              "        text-align: right;\n",
              "    }\n",
              "</style>\n",
              "<table border=\"1\" class=\"dataframe\">\n",
              "  <thead>\n",
              "    <tr style=\"text-align: right;\">\n",
              "      <th></th>\n",
              "      <th>F1_Score</th>\n",
              "      <th>F1_Score IC</th>\n",
              "      <th>Gmean</th>\n",
              "      <th>Gmean IC</th>\n",
              "      <th>Eficiencia Train</th>\n",
              "      <th>Eficiencia Train IC</th>\n",
              "      <th>Eficiencia Test</th>\n",
              "      <th>Eficiencia Test IC</th>\n",
              "    </tr>\n",
              "    <tr>\n",
              "      <th>reg_param</th>\n",
              "      <th></th>\n",
              "      <th></th>\n",
              "      <th></th>\n",
              "      <th></th>\n",
              "      <th></th>\n",
              "      <th></th>\n",
              "      <th></th>\n",
              "      <th></th>\n",
              "    </tr>\n",
              "  </thead>\n",
              "  <tbody>\n",
              "    <tr>\n",
              "      <th>0.1</th>\n",
              "      <td>0.759861</td>\n",
              "      <td>0.022005</td>\n",
              "      <td>0.816163</td>\n",
              "      <td>0.015610</td>\n",
              "      <td>0.778651</td>\n",
              "      <td>0.008010</td>\n",
              "      <td>0.757904</td>\n",
              "      <td>0.020306</td>\n",
              "    </tr>\n",
              "    <tr>\n",
              "      <th>0.2</th>\n",
              "      <td>0.738618</td>\n",
              "      <td>0.023669</td>\n",
              "      <td>0.800608</td>\n",
              "      <td>0.017898</td>\n",
              "      <td>0.755422</td>\n",
              "      <td>0.008800</td>\n",
              "      <td>0.737759</td>\n",
              "      <td>0.023194</td>\n",
              "    </tr>\n",
              "    <tr>\n",
              "      <th>0.3</th>\n",
              "      <td>0.726904</td>\n",
              "      <td>0.023312</td>\n",
              "      <td>0.791880</td>\n",
              "      <td>0.018234</td>\n",
              "      <td>0.741860</td>\n",
              "      <td>0.008705</td>\n",
              "      <td>0.726480</td>\n",
              "      <td>0.023589</td>\n",
              "    </tr>\n",
              "    <tr>\n",
              "      <th>0.4</th>\n",
              "      <td>0.723611</td>\n",
              "      <td>0.024041</td>\n",
              "      <td>0.789537</td>\n",
              "      <td>0.018512</td>\n",
              "      <td>0.737899</td>\n",
              "      <td>0.008470</td>\n",
              "      <td>0.723458</td>\n",
              "      <td>0.023932</td>\n",
              "    </tr>\n",
              "    <tr>\n",
              "      <th>0.5</th>\n",
              "      <td>0.724522</td>\n",
              "      <td>0.025348</td>\n",
              "      <td>0.790158</td>\n",
              "      <td>0.019273</td>\n",
              "      <td>0.736556</td>\n",
              "      <td>0.009522</td>\n",
              "      <td>0.724264</td>\n",
              "      <td>0.024910</td>\n",
              "    </tr>\n",
              "  </tbody>\n",
              "</table>\n",
              "</div>"
            ],
            "text/plain": [
              "           F1_Score  F1_Score IC     Gmean  Gmean IC  Eficiencia Train  \\\n",
              "reg_param                                                                \n",
              "0.1        0.759861     0.022005  0.816163  0.015610          0.778651   \n",
              "0.2        0.738618     0.023669  0.800608  0.017898          0.755422   \n",
              "0.3        0.726904     0.023312  0.791880  0.018234          0.741860   \n",
              "0.4        0.723611     0.024041  0.789537  0.018512          0.737899   \n",
              "0.5        0.724522     0.025348  0.790158  0.019273          0.736556   \n",
              "\n",
              "           Eficiencia Train IC  Eficiencia Test  Eficiencia Test IC  \n",
              "reg_param                                                            \n",
              "0.1                   0.008010         0.757904            0.020306  \n",
              "0.2                   0.008800         0.737759            0.023194  \n",
              "0.3                   0.008705         0.726480            0.023589  \n",
              "0.4                   0.008470         0.723458            0.023932  \n",
              "0.5                   0.009522         0.724264            0.024910  "
            ]
          },
          "execution_count": 15,
          "metadata": {},
          "output_type": "execute_result"
        }
      ],
      "source": [
        "df_types"
      ]
    },
    {
      "cell_type": "code",
      "execution_count": null,
      "metadata": {
        "id": "ljD0cH3Ca798",
        "outputId": "0a409a00-eebd-45e2-837d-fbed684e3e2b"
      },
      "outputs": [
        {
          "name": "stderr",
          "output_type": "stream",
          "text": [
            "/home/juan/simulation/simulation/lib/python3.8/site-packages/sklearn/discriminant_analysis.py:715: UserWarning: Variables are collinear\n",
            "  warnings.warn(\"Variables are collinear\")\n"
          ]
        },
        {
          "data": {
            "text/plain": [
              "QuadraticDiscriminantAnalysis(reg_param=0.1)"
            ]
          },
          "execution_count": 17,
          "metadata": {},
          "output_type": "execute_result"
        }
      ],
      "source": [
        "#best results\n",
        "X_train, X_test, y_train, y_test = ut.get_train_test()\n",
        "clf = QuadraticDiscriminantAnalysis(reg_param=0.1)\n",
        "clf.fit(X_train, y_train)"
      ]
    },
    {
      "cell_type": "code",
      "execution_count": null,
      "metadata": {
        "id": "WzC5_oPTa798",
        "outputId": "572a52c9-dee3-494e-a6be-3224fd5af298"
      },
      "outputs": [
        {
          "data": {
            "text/plain": [
              "<sklearn.metrics._plot.confusion_matrix.ConfusionMatrixDisplay at 0x7fcb96794b50>"
            ]
          },
          "execution_count": 18,
          "metadata": {},
          "output_type": "execute_result"
        },
        {
          "data": {
            "image/png": "[encoded data removed]",
            "text/plain": [
              "<Figure size 432x288 with 2 Axes>"
            ]
          },
          "metadata": {
            "needs_background": "light"
          },
          "output_type": "display_data"
        }
      ],
      "source": [
        "plot_confusion_matrix(clf,X=X_test, y_true=y_test,normalize='true', cmap=plt.cm.Blues)"
      ]
    },
    {
      "cell_type": "code",
      "execution_count": null,
      "metadata": {
        "id": "dcBEU7IEa799"
      },
      "outputs": [],
      "source": []
    }
  ],
  "metadata": {
    "kernelspec": {
      "display_name": "Python 3",
      "language": "python",
      "name": "python3"
    },
    "language_info": {
      "codemirror_mode": {
        "name": "ipython",
        "version": 3
      },
      "file_extension": ".py",
      "mimetype": "text/x-python",
      "name": "python",
      "nbconvert_exporter": "python",
      "pygments_lexer": "ipython3",
      "version": "3.8.5"
    },
    "colab": {
      "provenance": [],
      "collapsed_sections": [],
      "include_colab_link": true
    }
  },
  "nbformat": 4,
  "nbformat_minor": 0
}