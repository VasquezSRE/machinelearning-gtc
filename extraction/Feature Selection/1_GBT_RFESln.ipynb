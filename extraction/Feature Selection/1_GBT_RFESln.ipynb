{
  "cells": [
    {
      "cell_type": "markdown",
      "metadata": {
        "id": "view-in-github",
        "colab_type": "text"
      },
      "source": [
        "<a href=\"https://colab.research.google.com/github/VasquezSRE/machinelearning-gtc/blob/main/extraction/Feature%20Selection/1_GBT_RFESln.ipynb\" target=\"_parent\"><img src=\"https://colab.research.google.com/assets/colab-badge.svg\" alt=\"Open In Colab\"/></a>"
      ]
    },
    {
      "cell_type": "code",
      "execution_count": null,
      "metadata": {
        "scrolled": true,
        "id": "HbKMx9wD_mry"
      },
      "outputs": [],
      "source": [
        "import pandas as pd\n",
        "import numpy as np\n",
        "import sys; sys.path.append('./Utils')\n",
        "from IPython.display import display_html\n",
        "from sklearn.model_selection import train_test_split\n",
        "from sklearn.multiclass import OneVsRestClassifier\n",
        "from mlxtend.feature_selection import SequentialFeatureSelector as SFS\n",
        "from utils import Utils\n",
        "from sklearn.ensemble import GradientBoostingClassifier\n",
        "import time\n",
        "from sklearn.model_selection import StratifiedKFold\n",
        "from sklearn.feature_selection import RFE\n",
        "from sklearn.metrics import plot_confusion_matrix\n",
        "import matplotlib.pyplot as plt"
      ]
    },
    {
      "cell_type": "code",
      "execution_count": null,
      "metadata": {
        "id": "KeWmZdoW_mr7"
      },
      "outputs": [],
      "source": [
        "ut = Utils()\n",
        "X, Y = ut.get_matrixes()"
      ]
    },
    {
      "cell_type": "code",
      "execution_count": null,
      "metadata": {
        "id": "ISc-raR6_mr7"
      },
      "outputs": [],
      "source": [
        "#ejercicio de código\n",
        "def entrenamiento_sin_seleccion_caracteristicas(num_trees, X, Y):\n",
        "    \"\"\"\n",
        "    Función que ejecuta el entrenamiento del modelo sin una selección particular\n",
        "    de las características\n",
        "\n",
        "      Parámetros:splits : numero de particiones  a realizar\n",
        "      Retorna:\n",
        "      1. El modelo entreando\n",
        "      2. El vector de errores\n",
        "      3. El Intervalo de confianza\n",
        "      4. El tiempo de procesamiento\n",
        "    \"\"\"\n",
        "    #Implemetamos la metodología de validación\n",
        "    EficienciaTrain = []\n",
        "    EficienciaVal = []\n",
        "    f1 = [] \n",
        "    gmean =[]\n",
        "    j = 0\n",
        "    kf = StratifiedKFold(n_splits=4)\n",
        "    for train, test in kf.split(X, Y):\n",
        "        Xtrain, Ytrain, Xtest, Ytest = ut.get_training_test(X=X, Y=Y, train=train, test=test)\n",
        "        \n",
        "        #Creamos el clasificador SVM.\n",
        "        clf = GradientBoostingClassifier(n_estimators=num_trees)\n",
        "        clf.fit(Xtrain, Ytrain)\n",
        "        f1_score_current, gmean_current, eficiencia_train_current, eficiencia_test_current = ut.get_metrics(model=clf, X_train=Xtrain, X_test=Xtest, y_train=Ytrain, Ytest=Ytest)\n",
        "        tiempo_i = time.time()\n",
        "        EficienciaTrain.append(eficiencia_train_current)\n",
        "        EficienciaVal.append(eficiencia_test_current)\n",
        "        gmean.append(gmean_current)           \n",
        "        f1.append(f1_score_current)\n",
        "\n",
        "    f1_ = np.mean(f1)\n",
        "    f1_std = np.std(f1)\n",
        "    gmean_ = np.mean(gmean)\n",
        "    gmean_std = np.std(gmean)\n",
        "    EficienciaVal_ = np.mean(EficienciaVal)\n",
        "    EficienciaVal_std = np.std(EficienciaVal)\n",
        "    EficienciaTrain_ = np.mean(EficienciaTrain)\n",
        "    Eficienciatrain_std = np.std(EficienciaTrain)\n",
        "    \n",
        "    print(\"F1STD= \" + str(f1_std))\n",
        "    \n",
        "    \n",
        "    return clf, f1_, f1_std, gmean_, gmean_std, EficienciaVal_, EficienciaVal_std, EficienciaTrain_, Eficienciatrain_std"
      ]
    },
    {
      "cell_type": "code",
      "execution_count": null,
      "metadata": {
        "id": "i-KOndgg_mr9"
      },
      "outputs": [],
      "source": [
        "#ejercicio de código\n",
        "def recursive_feature_elimination_wrapper(estimator, feature_numbers, X,Y):\n",
        "    \"\"\"\n",
        "    Esta función es un envoltorio del objeto RFE de sklearn\n",
        "\n",
        "    Parámetros:\n",
        "    estimator(sklearn.svm.SVC), El estimador SVM\n",
        "    feature_numbers(int), El número de características a considerar\n",
        "    X (numpy.array), El arreglo numpy de características\n",
        "    Y (numpy.array), El vector de etiquetas\n",
        "\n",
        "    Retorna:\n",
        "    El modelo entrenado ()\n",
        "    La máscara de características seleccionada, array [longitud de caracterisitcas de X]\n",
        "    El rankeo de características, array [longitud de caracterisitcas de X]\n",
        "    El objeto RFE entrenado sobre el set reducido de características\n",
        "    El tiempo de ejecución\n",
        "    \"\"\"\n",
        "    rfe = RFE(estimator=estimator, n_features_to_select=feature_numbers, step=1)\n",
        "    tiempo_i = time.time()\n",
        "    rfe.fit(X=X, y=Y)\n",
        "    time_o = time.time()-tiempo_i\n",
        "    feature_mask = rfe.support_\n",
        "    features_rank = rfe.ranking_\n",
        "    estimator = rfe.estimator_\n",
        "    return rfe, feature_mask, features_rank, estimator, time_o"
      ]
    },
    {
      "cell_type": "code",
      "execution_count": null,
      "metadata": {
        "scrolled": true,
        "id": "PmzdKCyv_mr-"
      },
      "outputs": [],
      "source": [
        "#ejercicio de código\n",
        "def experimentar(n_feats, n_sets, X, Y):\n",
        "    \"\"\"\n",
        "    Esta función realiza la comparación del desempeño de RFE utilizando diferente \n",
        "    número de feats y particionando el conjunto de datos en diferente número de \n",
        "    subconjuntos\n",
        "\n",
        "    Parámetros:\n",
        "    X (numpy.array), El arreglo numpy de características\n",
        "    Y (numpy.array), El vector de etiquetas\n",
        "    n_feats, Vector de números enteros que indica el número de características\n",
        "              que debe utilizar el modelo\n",
        "    n_sets, Vector de números enteros que indica el número de particiones\n",
        "\n",
        "    Retorna:  \n",
        "    - DataFrame con las columnas: CON_SEL, NUM_VAR, NUM_SPLITS, ERROR_VALIDACION, IC_STD_VALIDACION, \n",
        "    y T_EJECUCION. \n",
        "\n",
        "    \"\"\"\n",
        "    df = pd.DataFrame()\n",
        "    idx = 0\n",
        "    for split_number in n_sets:\n",
        "        clf, f1_, f1_std, gmean_, gmean_std, EficienciaVal_, EficienciaVal_std, EficienciaTrain_, Eficienciatrain_std = entrenamiento_sin_seleccion_caracteristicas(split_number,X,Y)        \n",
        "        df.loc[idx,'CON_SEL'] = 'NO'\n",
        "        df.loc[idx,'NUM_VAR'] = X.shape[1]\n",
        "        df.loc[idx,'NUM_SPLITS'] = split_number\n",
        "        df.loc[idx,'F1 Score'] = f1_\n",
        "        df.loc[idx,'F1 Score IC'] = f1_std\n",
        "        df.loc[idx,'Gmean'] = gmean_\n",
        "        df.loc[idx,'Gmean IC'] = gmean_std\n",
        "        df.loc[idx,'Eficiencia Test'] = EficienciaVal_\n",
        "        df.loc[idx,'Eficiencia Test IC'] = EficienciaVal_std\n",
        "        df.loc[idx,'Eficiencia Train'] = EficienciaTrain_\n",
        "        df.loc[idx,'Eficiencia Train IC'] = Eficienciatrain_std\n",
        "        idx+=1\n",
        "    print(\"termina experimentos sin selección\")\n",
        "    #Con selección de características\n",
        "    \n",
        "    for f in n_feats:\n",
        "        for split_number in n_sets:\n",
        "            #Implemetamos la metodología de validación \n",
        "            EficienciaTrain = []\n",
        "            EficienciaVal = []\n",
        "            f1 = [] \n",
        "            gmean =[]\n",
        "            times = np.ones(split_number)\n",
        "            kf = StratifiedKFold(n_splits=split_number)\n",
        "            j = 0\n",
        "            for train_index, test_index in kf.split(X, Y):\n",
        "                \n",
        "                X_train, X_test = X[train_index], X[test_index]\n",
        "                y_train, y_test = Y[train_index], Y[test_index]\n",
        "                \n",
        "                clf =  GradientBoostingClassifier(n_estimators=50)\n",
        "                \n",
        "                # se ignorar las otras salidas\n",
        "                \n",
        "                rfe, _, _, _, t = recursive_feature_elimination_wrapper(estimator=clf,feature_numbers=f, X=X_train,Y=y_train)\n",
        "                                \n",
        "                \n",
        "                f1_score_current, gmean_current, eficiencia_train_current, eficiencia_test_current = ut.get_metrics(model=rfe, X_train=X_train, X_test=X_test, y_train=y_train, Ytest=y_test)\n",
        "                EficienciaTrain.append(eficiencia_train_current)\n",
        "                EficienciaVal.append(eficiencia_test_current)\n",
        "                f1.append(f1_score_current)\n",
        "                gmean.append(gmean_current)\n",
        "                times[j] = t\n",
        "                j+=1\n",
        "\n",
        "            df.loc[idx,'CON_SEL'] = 'SI'\n",
        "            df.loc[idx,'NUM_VAR'] = f\n",
        "            df.loc[idx,'NUM_SPLITS'] = split_number\n",
        "            df.loc[idx,'F1 Score'] = np.mean(f1)\n",
        "            df.loc[idx, 'F1 Score IC'] = np.std(f1)\n",
        "            df.loc[idx, 'Gmean'] = np.mean(gmean)\n",
        "            df.loc[idx, 'Gmean IC'] = np.std(gmean)\n",
        "            df.loc[idx, 'Eficiencia Test'] = np.mean(EficienciaVal)\n",
        "            df.loc[idx, 'Eficiencia Test IC'] = np.std(EficienciaVal)\n",
        "            df.loc[idx, 'Eficiencia Train'] = np.mean(EficienciaTrain)\n",
        "            df.loc[idx, 'Eficiencia Train IC'] = np.std(EficienciaTrain)\n",
        "            idx+=1\n",
        "    return df\n"
      ]
    },
    {
      "cell_type": "code",
      "execution_count": null,
      "metadata": {
        "id": "Rc37RV36_mr_",
        "outputId": "a6fffa14-fe07-48ef-a3e9-258f228b5c80"
      },
      "outputs": [
        {
          "name": "stdout",
          "output_type": "stream",
          "text": [
            "F1STD= 0.0394175824808097\n",
            "F1STD= 0.04176666015229993\n",
            "termina experimentos sin selección\n"
          ]
        }
      ],
      "source": [
        "dfr = experimentar(n_feats = [3, 5, 10,15,20], n_sets = [5, 10], X= X, Y=Y)"
      ]
    },
    {
      "cell_type": "code",
      "execution_count": null,
      "metadata": {
        "id": "UXBj-Yj2_msA",
        "outputId": "cc438221-5cf0-4d95-9de5-39505191baa5"
      },
      "outputs": [
        {
          "data": {
            "text/html": [
              "<div>\n",
              "<style scoped>\n",
              "    .dataframe tbody tr th:only-of-type {\n",
              "        vertical-align: middle;\n",
              "    }\n",
              "\n",
              "    .dataframe tbody tr th {\n",
              "        vertical-align: top;\n",
              "    }\n",
              "\n",
              "    .dataframe thead th {\n",
              "        text-align: right;\n",
              "    }\n",
              "</style>\n",
              "<table border=\"1\" class=\"dataframe\">\n",
              "  <thead>\n",
              "    <tr style=\"text-align: right;\">\n",
              "      <th></th>\n",
              "      <th>CON_SEL</th>\n",
              "      <th>NUM_VAR</th>\n",
              "      <th>NUM_SPLITS</th>\n",
              "      <th>F1 Score</th>\n",
              "      <th>F1 Score IC</th>\n",
              "      <th>Gmean</th>\n",
              "      <th>Gmean IC</th>\n",
              "      <th>Eficiencia Test</th>\n",
              "      <th>Eficiencia Test IC</th>\n",
              "      <th>Eficiencia Train</th>\n",
              "      <th>Eficiencia Train IC</th>\n",
              "    </tr>\n",
              "  </thead>\n",
              "  <tbody>\n",
              "    <tr>\n",
              "      <th>0</th>\n",
              "      <td>NO</td>\n",
              "      <td>23.0</td>\n",
              "      <td>5.0</td>\n",
              "      <td>0.880233</td>\n",
              "      <td>0.039418</td>\n",
              "      <td>0.910787</td>\n",
              "      <td>0.027486</td>\n",
              "      <td>0.881771</td>\n",
              "      <td>0.036201</td>\n",
              "      <td>0.922525</td>\n",
              "      <td>0.010486</td>\n",
              "    </tr>\n",
              "    <tr>\n",
              "      <th>1</th>\n",
              "      <td>NO</td>\n",
              "      <td>23.0</td>\n",
              "      <td>10.0</td>\n",
              "      <td>0.897476</td>\n",
              "      <td>0.041767</td>\n",
              "      <td>0.924066</td>\n",
              "      <td>0.028835</td>\n",
              "      <td>0.899294</td>\n",
              "      <td>0.038035</td>\n",
              "      <td>0.935751</td>\n",
              "      <td>0.008328</td>\n",
              "    </tr>\n",
              "    <tr>\n",
              "      <th>2</th>\n",
              "      <td>SI</td>\n",
              "      <td>3.0</td>\n",
              "      <td>5.0</td>\n",
              "      <td>0.880326</td>\n",
              "      <td>0.027231</td>\n",
              "      <td>0.910516</td>\n",
              "      <td>0.019732</td>\n",
              "      <td>0.881370</td>\n",
              "      <td>0.026008</td>\n",
              "      <td>0.918731</td>\n",
              "      <td>0.023995</td>\n",
              "    </tr>\n",
              "    <tr>\n",
              "      <th>3</th>\n",
              "      <td>SI</td>\n",
              "      <td>3.0</td>\n",
              "      <td>10.0</td>\n",
              "      <td>0.877356</td>\n",
              "      <td>0.060704</td>\n",
              "      <td>0.909219</td>\n",
              "      <td>0.042020</td>\n",
              "      <td>0.879767</td>\n",
              "      <td>0.055267</td>\n",
              "      <td>0.919882</td>\n",
              "      <td>0.017367</td>\n",
              "    </tr>\n",
              "    <tr>\n",
              "      <th>4</th>\n",
              "      <td>SI</td>\n",
              "      <td>5.0</td>\n",
              "      <td>5.0</td>\n",
              "      <td>0.926485</td>\n",
              "      <td>0.038325</td>\n",
              "      <td>0.945701</td>\n",
              "      <td>0.026987</td>\n",
              "      <td>0.927895</td>\n",
              "      <td>0.035682</td>\n",
              "      <td>0.957351</td>\n",
              "      <td>0.005948</td>\n",
              "    </tr>\n",
              "    <tr>\n",
              "      <th>5</th>\n",
              "      <td>SI</td>\n",
              "      <td>5.0</td>\n",
              "      <td>10.0</td>\n",
              "      <td>0.932697</td>\n",
              "      <td>0.045602</td>\n",
              "      <td>0.950564</td>\n",
              "      <td>0.031206</td>\n",
              "      <td>0.934333</td>\n",
              "      <td>0.041254</td>\n",
              "      <td>0.955265</td>\n",
              "      <td>0.003746</td>\n",
              "    </tr>\n",
              "    <tr>\n",
              "      <th>6</th>\n",
              "      <td>SI</td>\n",
              "      <td>10.0</td>\n",
              "      <td>5.0</td>\n",
              "      <td>0.923969</td>\n",
              "      <td>0.049031</td>\n",
              "      <td>0.944150</td>\n",
              "      <td>0.034400</td>\n",
              "      <td>0.925881</td>\n",
              "      <td>0.045479</td>\n",
              "      <td>0.970191</td>\n",
              "      <td>0.005791</td>\n",
              "    </tr>\n",
              "    <tr>\n",
              "      <th>7</th>\n",
              "      <td>SI</td>\n",
              "      <td>10.0</td>\n",
              "      <td>10.0</td>\n",
              "      <td>0.931569</td>\n",
              "      <td>0.061172</td>\n",
              "      <td>0.950671</td>\n",
              "      <td>0.039759</td>\n",
              "      <td>0.934531</td>\n",
              "      <td>0.052444</td>\n",
              "      <td>0.969654</td>\n",
              "      <td>0.003575</td>\n",
              "    </tr>\n",
              "    <tr>\n",
              "      <th>8</th>\n",
              "      <td>SI</td>\n",
              "      <td>15.0</td>\n",
              "      <td>5.0</td>\n",
              "      <td>0.931301</td>\n",
              "      <td>0.049080</td>\n",
              "      <td>0.949776</td>\n",
              "      <td>0.034223</td>\n",
              "      <td>0.933333</td>\n",
              "      <td>0.045250</td>\n",
              "      <td>0.973565</td>\n",
              "      <td>0.005922</td>\n",
              "    </tr>\n",
              "    <tr>\n",
              "      <th>9</th>\n",
              "      <td>SI</td>\n",
              "      <td>15.0</td>\n",
              "      <td>10.0</td>\n",
              "      <td>0.932138</td>\n",
              "      <td>0.066111</td>\n",
              "      <td>0.951259</td>\n",
              "      <td>0.043152</td>\n",
              "      <td>0.935335</td>\n",
              "      <td>0.056903</td>\n",
              "      <td>0.971445</td>\n",
              "      <td>0.002972</td>\n",
              "    </tr>\n",
              "    <tr>\n",
              "      <th>10</th>\n",
              "      <td>SI</td>\n",
              "      <td>20.0</td>\n",
              "      <td>5.0</td>\n",
              "      <td>0.930707</td>\n",
              "      <td>0.049875</td>\n",
              "      <td>0.949317</td>\n",
              "      <td>0.034895</td>\n",
              "      <td>0.932729</td>\n",
              "      <td>0.046146</td>\n",
              "      <td>0.976536</td>\n",
              "      <td>0.004844</td>\n",
              "    </tr>\n",
              "    <tr>\n",
              "      <th>11</th>\n",
              "      <td>SI</td>\n",
              "      <td>20.0</td>\n",
              "      <td>10.0</td>\n",
              "      <td>0.933775</td>\n",
              "      <td>0.055033</td>\n",
              "      <td>0.951750</td>\n",
              "      <td>0.037120</td>\n",
              "      <td>0.935940</td>\n",
              "      <td>0.049041</td>\n",
              "      <td>0.974399</td>\n",
              "      <td>0.002603</td>\n",
              "    </tr>\n",
              "  </tbody>\n",
              "</table>\n",
              "</div>"
            ],
            "text/plain": [
              "   CON_SEL  NUM_VAR  NUM_SPLITS  F1 Score  F1 Score IC     Gmean  Gmean IC  \\\n",
              "0       NO     23.0         5.0  0.880233     0.039418  0.910787  0.027486   \n",
              "1       NO     23.0        10.0  0.897476     0.041767  0.924066  0.028835   \n",
              "2       SI      3.0         5.0  0.880326     0.027231  0.910516  0.019732   \n",
              "3       SI      3.0        10.0  0.877356     0.060704  0.909219  0.042020   \n",
              "4       SI      5.0         5.0  0.926485     0.038325  0.945701  0.026987   \n",
              "5       SI      5.0        10.0  0.932697     0.045602  0.950564  0.031206   \n",
              "6       SI     10.0         5.0  0.923969     0.049031  0.944150  0.034400   \n",
              "7       SI     10.0        10.0  0.931569     0.061172  0.950671  0.039759   \n",
              "8       SI     15.0         5.0  0.931301     0.049080  0.949776  0.034223   \n",
              "9       SI     15.0        10.0  0.932138     0.066111  0.951259  0.043152   \n",
              "10      SI     20.0         5.0  0.930707     0.049875  0.949317  0.034895   \n",
              "11      SI     20.0        10.0  0.933775     0.055033  0.951750  0.037120   \n",
              "\n",
              "    Eficiencia Test  Eficiencia Test IC  Eficiencia Train  Eficiencia Train IC  \n",
              "0          0.881771            0.036201          0.922525             0.010486  \n",
              "1          0.899294            0.038035          0.935751             0.008328  \n",
              "2          0.881370            0.026008          0.918731             0.023995  \n",
              "3          0.879767            0.055267          0.919882             0.017367  \n",
              "4          0.927895            0.035682          0.957351             0.005948  \n",
              "5          0.934333            0.041254          0.955265             0.003746  \n",
              "6          0.925881            0.045479          0.970191             0.005791  \n",
              "7          0.934531            0.052444          0.969654             0.003575  \n",
              "8          0.933333            0.045250          0.973565             0.005922  \n",
              "9          0.935335            0.056903          0.971445             0.002972  \n",
              "10         0.932729            0.046146          0.976536             0.004844  \n",
              "11         0.935940            0.049041          0.974399             0.002603  "
            ]
          },
          "execution_count": 11,
          "metadata": {},
          "output_type": "execute_result"
        }
      ],
      "source": [
        "dfr"
      ]
    },
    {
      "cell_type": "code",
      "execution_count": null,
      "metadata": {
        "id": "Ma1KwFgn_msB"
      },
      "outputs": [],
      "source": [
        "X_train, X_test, y_train, y_test = ut.get_train_test()"
      ]
    },
    {
      "cell_type": "code",
      "execution_count": null,
      "metadata": {
        "id": "dtL3uYEI_msC"
      },
      "outputs": [],
      "source": [
        "clf =  GradientBoostingClassifier(n_estimators=50)"
      ]
    },
    {
      "cell_type": "code",
      "execution_count": null,
      "metadata": {
        "id": "IzBwtaR7_msC"
      },
      "outputs": [],
      "source": [
        "rfe, feature_mask, features_rank, estimator, time_o = recursive_feature_elimination_wrapper(estimator=clf,feature_numbers=20, X=X_train,Y=y_train)"
      ]
    },
    {
      "cell_type": "code",
      "execution_count": null,
      "metadata": {
        "id": "eKAFduv6_msD",
        "outputId": "fa805b2d-7c89-4eaa-f504-cf24f902b1a6"
      },
      "outputs": [
        {
          "data": {
            "text/plain": [
              "<sklearn.metrics._plot.confusion_matrix.ConfusionMatrixDisplay at 0x7fce34c7bc10>"
            ]
          },
          "execution_count": 16,
          "metadata": {},
          "output_type": "execute_result"
        },
        {
          "data": {
            "image/png": "[encoded data removed]",
            "text/plain": [
              "<Figure size 432x288 with 2 Axes>"
            ]
          },
          "metadata": {
            "needs_background": "light"
          },
          "output_type": "display_data"
        }
      ],
      "source": [
        "plot_confusion_matrix(rfe,X=X_test, y_true=y_test,normalize='true', cmap=plt.cm.Blues)"
      ]
    },
    {
      "cell_type": "code",
      "execution_count": null,
      "metadata": {
        "id": "jaUBsoeA_msD",
        "outputId": "fd2efd8e-d7b2-4477-81a8-97ecfa42b84e"
      },
      "outputs": [
        {
          "data": {
            "text/plain": [
              "array([ True,  True,  True,  True,  True,  True,  True,  True,  True,\n",
              "       False, False,  True, False,  True,  True,  True,  True,  True,\n",
              "        True,  True,  True,  True,  True])"
            ]
          },
          "execution_count": 17,
          "metadata": {},
          "output_type": "execute_result"
        }
      ],
      "source": [
        "feature_mask"
      ]
    },
    {
      "cell_type": "code",
      "execution_count": null,
      "metadata": {
        "id": "0abyCWYB_msE",
        "outputId": "699ba693-77e1-461a-bd94-d6f5f4aaa258"
      },
      "outputs": [
        {
          "data": {
            "text/plain": [
              "array([1, 1, 1, 1, 1, 1, 1, 1, 1, 2, 4, 1, 3, 1, 1, 1, 1, 1, 1, 1, 1, 1,\n",
              "       1])"
            ]
          },
          "execution_count": 18,
          "metadata": {},
          "output_type": "execute_result"
        }
      ],
      "source": [
        "features_rank"
      ]
    },
    {
      "cell_type": "code",
      "execution_count": null,
      "metadata": {
        "id": "v3Mb_cG9_msE",
        "outputId": "8ff818ac-02c5-4afb-bc16-6419e4f57c19"
      },
      "outputs": [
        {
          "data": {
            "text/plain": [
              "(4965, 23)"
            ]
          },
          "execution_count": 19,
          "metadata": {},
          "output_type": "execute_result"
        }
      ],
      "source": [
        "X.shape"
      ]
    },
    {
      "cell_type": "code",
      "execution_count": null,
      "metadata": {
        "id": "0GTflp1o_msE"
      },
      "outputs": [],
      "source": [
        "def MLP(nCaps, neuronCaps):\n",
        "        #Validamos el modelo\n",
        "    Folds = 4\n",
        "    f1 = []\n",
        "    gmean = []\n",
        "    eficiencia_train = []\n",
        "    eficiencia_test = []\n",
        "    skf = StratifiedKFold(n_splits=Folds)\n",
        "    for train, test in skf.split(X, Y):\n",
        "        Xtrain, Ytrain, Xtest, Ytest = ut.get_training_test(X=X, Y=Y, train=train, test=test)\n",
        "\n",
        "        #Haga el llamado a la función para crear y entrenar el modelo usando los datos de entrenamiento\n",
        "        model = None;\n",
        "        if(nCaps == 1):\n",
        "            #Haga el llamado a la función para crear y entrenar el modelo usando los datos de entrenamiento\n",
        "            mlp = OneVsRestClassifier(MLPClassifier(hidden_layer_sizes = (neuronCaps), activation = 'relu', max_iter=500), n_jobs=-1).fit(Xtrain, Ytrain)\n",
        "        else:\n",
        "            mlp = OneVsRestClassifier(MLPClassifier(hidden_layer_sizes = (neuronCaps, neuronCaps), activation = 'relu', max_iter=500), n_jobs=-1).fit(Xtrain, Ytrain)\n",
        "\n",
        "        f1_score_current, gmean_current, eficiencia_train_current, eficiencia_test_current = ut.get_metrics(mlp, Xtrain, Xtest, Ytrain, Ytest)\n",
        "        \n",
        "        f1.append(f1_score_current)\n",
        "        gmean.append(gmean_current)\n",
        "        eficiencia_train.append(eficiencia_train_current)\n",
        "        eficiencia_test.append(eficiencia_test_current)\n",
        "    \n",
        "    f1_mean, f1_ic, gmean_mean, gmean_ic, eficiencia_train_mean, eficiencia_train_ic, eficiencia_test_mean, eficiencia_test_ic = ut.get_means_and_ic(f1, gmean, eficiencia_train, eficiencia_test)\n",
        "\n",
        "    print(f\"Finalizado: {nCaps} capas y {neuronCaps} neuronas por capa\")\n",
        "    \n",
        "    return f1_mean, f1_ic, gmean_mean, gmean_ic, eficiencia_train_mean, eficiencia_train_ic, eficiencia_test_mean, eficiencia_test_ic"
      ]
    },
    {
      "cell_type": "code",
      "execution_count": null,
      "metadata": {
        "id": "nKW87lV4_msF"
      },
      "outputs": [],
      "source": [
        "# nuevos X\n",
        "df = pd.read_csv('../../data/CTGsmtRFE.csv', header=None)"
      ]
    },
    {
      "cell_type": "code",
      "execution_count": null,
      "metadata": {
        "id": "cV-QTECx_msF"
      },
      "outputs": [],
      "source": [
        "    data = df.to_numpy()\n",
        "    X = data[:,0:20]\n",
        "    Y = data[:,20]"
      ]
    },
    {
      "cell_type": "code",
      "execution_count": null,
      "metadata": {
        "id": "ovAvJF8G_msF"
      },
      "outputs": [],
      "source": [
        "randn = np.random.randn\n",
        "df_types = pd.DataFrame({\n",
        "    'N. de capas ocultas' : pd.Series([1,1,1,1,1,1,1,2,2,2,2,2,2,2,3,3,3,3,3,3,3]),\n",
        "    'Neuronas por capa' : pd.Series([20,24,28,32,36,100,188,20,24,28,32,36,100,188,20,24,28,32,36,100,188])})"
      ]
    },
    {
      "cell_type": "code",
      "execution_count": null,
      "metadata": {
        "id": "74aFkPUy_msG",
        "outputId": "0c53cee7-9dd8-4546-8fc4-d1766e86d71f"
      },
      "outputs": [
        {
          "ename": "NameError",
          "evalue": "name 'random' is not defined",
          "output_type": "error",
          "traceback": [
            "\u001b[0;31m---------------------------------------------------------------------------\u001b[0m",
            "\u001b[0;31mNameError\u001b[0m                                 Traceback (most recent call last)",
            "\u001b[0;32m<ipython-input-22-ccb83e346401>\u001b[0m in \u001b[0;36m<module>\u001b[0;34m\u001b[0m\n\u001b[1;32m      8\u001b[0m \u001b[0mefi_train_ic\u001b[0m \u001b[0;34m=\u001b[0m \u001b[0;34m[\u001b[0m\u001b[0;34m]\u001b[0m\u001b[0;34m\u001b[0m\u001b[0;34m\u001b[0m\u001b[0m\n\u001b[1;32m      9\u001b[0m \u001b[0;32mfor\u001b[0m \u001b[0me\u001b[0m\u001b[0;34m,\u001b[0m \u001b[0mi\u001b[0m \u001b[0;32min\u001b[0m \u001b[0mzip\u001b[0m\u001b[0;34m(\u001b[0m\u001b[0mdf_types\u001b[0m\u001b[0;34m[\u001b[0m\u001b[0;34m'N. de capas ocultas'\u001b[0m\u001b[0;34m]\u001b[0m\u001b[0;34m,\u001b[0m \u001b[0mdf_types\u001b[0m\u001b[0;34m[\u001b[0m\u001b[0;34m'Neuronas por capa'\u001b[0m\u001b[0;34m]\u001b[0m\u001b[0;34m)\u001b[0m\u001b[0;34m:\u001b[0m\u001b[0;34m\u001b[0m\u001b[0;34m\u001b[0m\u001b[0m\n\u001b[0;32m---> 10\u001b[0;31m     \u001b[0mf1_mean\u001b[0m\u001b[0;34m,\u001b[0m \u001b[0mf1_ic_\u001b[0m\u001b[0;34m,\u001b[0m \u001b[0mgmean_mean\u001b[0m\u001b[0;34m,\u001b[0m \u001b[0mgmean_ic_\u001b[0m\u001b[0;34m,\u001b[0m \u001b[0meficiencia_train_mean\u001b[0m\u001b[0;34m,\u001b[0m \u001b[0meficiencia_train_ic\u001b[0m\u001b[0;34m,\u001b[0m \u001b[0meficiencia_test_mean\u001b[0m\u001b[0;34m,\u001b[0m \u001b[0meficiencia_test_ic\u001b[0m \u001b[0;34m=\u001b[0m \u001b[0mMLP\u001b[0m\u001b[0;34m(\u001b[0m\u001b[0me\u001b[0m\u001b[0;34m,\u001b[0m \u001b[0mi\u001b[0m\u001b[0;34m)\u001b[0m\u001b[0;34m\u001b[0m\u001b[0;34m\u001b[0m\u001b[0m\n\u001b[0m\u001b[1;32m     11\u001b[0m     \u001b[0mf1\u001b[0m\u001b[0;34m.\u001b[0m\u001b[0mappend\u001b[0m\u001b[0;34m(\u001b[0m\u001b[0mf1_mean\u001b[0m\u001b[0;34m)\u001b[0m\u001b[0;34m\u001b[0m\u001b[0;34m\u001b[0m\u001b[0m\n\u001b[1;32m     12\u001b[0m     \u001b[0mf1_ic\u001b[0m\u001b[0;34m.\u001b[0m\u001b[0mappend\u001b[0m\u001b[0;34m(\u001b[0m\u001b[0mf1_ic_\u001b[0m\u001b[0;34m)\u001b[0m\u001b[0;34m\u001b[0m\u001b[0;34m\u001b[0m\u001b[0m\n",
            "\u001b[0;32m<ipython-input-20-e8206612f362>\u001b[0m in \u001b[0;36mMLP\u001b[0;34m(nCaps, neuronCaps)\u001b[0m\n\u001b[1;32m      2\u001b[0m         \u001b[0;31m#Validamos el modelo\u001b[0m\u001b[0;34m\u001b[0m\u001b[0;34m\u001b[0m\u001b[0;34m\u001b[0m\u001b[0m\n\u001b[1;32m      3\u001b[0m     \u001b[0mFolds\u001b[0m \u001b[0;34m=\u001b[0m \u001b[0;36m4\u001b[0m\u001b[0;34m\u001b[0m\u001b[0;34m\u001b[0m\u001b[0m\n\u001b[0;32m----> 4\u001b[0;31m     \u001b[0mrandom\u001b[0m\u001b[0;34m.\u001b[0m\u001b[0mseed\u001b[0m\u001b[0;34m(\u001b[0m\u001b[0;36m19680801\u001b[0m\u001b[0;34m)\u001b[0m\u001b[0;34m\u001b[0m\u001b[0;34m\u001b[0m\u001b[0m\n\u001b[0m\u001b[1;32m      5\u001b[0m     \u001b[0mf1\u001b[0m \u001b[0;34m=\u001b[0m \u001b[0;34m[\u001b[0m\u001b[0;34m]\u001b[0m\u001b[0;34m\u001b[0m\u001b[0;34m\u001b[0m\u001b[0m\n\u001b[1;32m      6\u001b[0m     \u001b[0mgmean\u001b[0m \u001b[0;34m=\u001b[0m \u001b[0;34m[\u001b[0m\u001b[0;34m]\u001b[0m\u001b[0;34m\u001b[0m\u001b[0;34m\u001b[0m\u001b[0m\n",
            "\u001b[0;31mNameError\u001b[0m: name 'random' is not defined"
          ]
        }
      ],
      "source": [
        "f1 = []\n",
        "f1_ic = []\n",
        "gmean =[]\n",
        "gmean_ic = []\n",
        "efi_test = []\n",
        "efi_test_ic = []\n",
        "efi_train = []\n",
        "efi_train_ic = []\n",
        "for e, i in zip(df_types['N. de capas ocultas'], df_types['Neuronas por capa']):\n",
        "    f1_mean, f1_ic_, gmean_mean, gmean_ic_, eficiencia_train_mean, eficiencia_train_ic, eficiencia_test_mean, eficiencia_test_ic = MLP(e, i)\n",
        "    f1.append(f1_mean)\n",
        "    f1_ic.append(f1_ic_)\n",
        "    gmean.append(gmean_mean)\n",
        "    gmean_ic.append(gmean_ic_)\n",
        "    efi_test.append(eficiencia_test_mean)\n",
        "    efi_test_ic.append(eficiencia_test_ic)\n",
        "    efi_train.append(efi_train)\n",
        "    efi_train_ic.append(efi_train_ic)\n",
        "#maxi = np.array(meanPrueba).type()\n",
        "#print(f'Mejor Modelo: {}')0\n",
        "df_types[\"f1\"] = f1\n",
        "df_types[\"f1 IC\"] = f1_ic\n",
        "df_types[\"GMEAN\"] = gmean\n",
        "df_types[\"GMEAN IC\"] = gmean_ic\n",
        "df_types[\"Eficiencia Test\"] = efi_test\n",
        "df_types[\"Eficiencia Test IC\"] = efi_test_ic\n",
        "df_types[\"Eficiencia Train\"] = efi_train\n",
        "df_types[\"Eficiencia Train IC\"] = efi_train_ic\n",
        "df_types.set_index(['N. de capas ocultas','Neuronas por capa'], inplace=True)\n",
        "#df_types.sort_index(inplace=True)\n",
        "qgrid_widget = qgrid.show_grid(df_types, show_toolbar=False)\n",
        "qgrid_widget"
      ]
    },
    {
      "cell_type": "code",
      "execution_count": null,
      "metadata": {
        "id": "SnCHbnY-_msG"
      },
      "outputs": [],
      "source": []
    }
  ],
  "metadata": {
    "kernelspec": {
      "display_name": "Python 3",
      "language": "python",
      "name": "python3"
    },
    "language_info": {
      "codemirror_mode": {
        "name": "ipython",
        "version": 3
      },
      "file_extension": ".py",
      "mimetype": "text/x-python",
      "name": "python",
      "nbconvert_exporter": "python",
      "pygments_lexer": "ipython3",
      "version": "3.8.5"
    },
    "colab": {
      "provenance": [],
      "collapsed_sections": [],
      "include_colab_link": true
    }
  },
  "nbformat": 4,
  "nbformat_minor": 0
}